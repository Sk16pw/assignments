{
 "cells": [
  {
   "cell_type": "code",
   "execution_count": 1,
   "id": "7535633f-e5d8-4129-8ca6-a7b092910c5b",
   "metadata": {},
   "outputs": [],
   "source": [
    "##question- who developed python programming language?\n",
    "##answer -Guido van Rossum"
   ]
  },
  {
   "cell_type": "code",
   "execution_count": 2,
   "id": "c65e86ab-9206-42dc-83c2-880d3c93f608",
   "metadata": {},
   "outputs": [],
   "source": [
    "##question- which type of programming does python support?\n",
    "##answer- object-oriented,structured and functional programming"
   ]
  },
  {
   "cell_type": "code",
   "execution_count": 3,
   "id": "16ed1a7e-bd49-411d-997e-fa2e804512d9",
   "metadata": {},
   "outputs": [],
   "source": [
    "##question- is python case sensitive when dealing with identifiers?\n",
    "## answer- Yes"
   ]
  },
  {
   "cell_type": "code",
   "execution_count": 4,
   "id": "0307d187-d781-4875-a9a9-d37106db35ef",
   "metadata": {},
   "outputs": [],
   "source": [
    "##question- what is the correct extension of the python file?\n",
    "##answer- .py"
   ]
  },
  {
   "cell_type": "code",
   "execution_count": 5,
   "id": "861b5372-ccee-46ea-97e0-0fb0b21f5b28",
   "metadata": {},
   "outputs": [],
   "source": [
    "##question- is phython code compiled or interpreted?\n",
    "##answer- interpreted"
   ]
  },
  {
   "cell_type": "code",
   "execution_count": 6,
   "id": "7689a1aa-b7ab-4843-8036-ba07929776cc",
   "metadata": {},
   "outputs": [],
   "source": [
    "##question- nane a few block of code used to define in python language?\n",
    "##answer- indentation"
   ]
  },
  {
   "cell_type": "code",
   "execution_count": 7,
   "id": "9097e0e2-5a72-4711-a4a2-683a49cae6eb",
   "metadata": {},
   "outputs": [],
   "source": [
    "##question-state a character used to give single-line comments in python?\n",
    "##answer- single # character"
   ]
  },
  {
   "cell_type": "code",
   "execution_count": null,
   "id": "223222e8-24fe-4939-97a7-0143555ade20",
   "metadata": {},
   "outputs": [],
   "source": [
    "##question- mention functions which can help us to find the version of python that we are currently working on?\n",
    "##answer- sys.version"
   ]
  },
  {
   "cell_type": "code",
   "execution_count": 8,
   "id": "7a6d0491-e31f-4702-9058-57c20ae30eca",
   "metadata": {},
   "outputs": [],
   "source": [
    "##question- python supports the creation of ananymous functions at runtime, using a construct called__\n",
    "##answer- lambda"
   ]
  },
  {
   "cell_type": "code",
   "execution_count": 9,
   "id": "3d489885-e7ac-47e2-a3d2-5d968c60fff3",
   "metadata": {},
   "outputs": [],
   "source": [
    "##question-what does pip stand for python?\n",
    "##answer- pip means preferred installer program"
   ]
  },
  {
   "cell_type": "code",
   "execution_count": 10,
   "id": "dc04d412-9928-47a0-8622-616e4dc16218",
   "metadata": {},
   "outputs": [],
   "source": [
    "##question- mention a few built -in function in python?\n",
    "##answer- print() , type()"
   ]
  },
  {
   "cell_type": "code",
   "execution_count": 11,
   "id": "ac26e850-bd9c-49bf-b8c4-a612b57263e9",
   "metadata": {},
   "outputs": [],
   "source": [
    "##question- what is the maximum possible length of an identifier in pythun?\n",
    "##answer- 79"
   ]
  },
  {
   "cell_type": "code",
   "execution_count": 13,
   "id": "84d136b0-4e93-4259-a8dc-abffca909bdd",
   "metadata": {},
   "outputs": [],
   "source": [
    "##question- what are the benefits of using python?\n",
    "##answer- open source and free, easy portable, massive libraries etc."
   ]
  },
  {
   "cell_type": "code",
   "execution_count": 14,
   "id": "608a2269-04a6-4e49-bd2b-167b90b794e4",
   "metadata": {},
   "outputs": [],
   "source": [
    "##question- how is memory managed in python?\n",
    "##answer- memory managed by python private heap spcae.all python object and data structure are located in private heap.private heap is taken care of by python enterpreter"
   ]
  },
  {
   "cell_type": "code",
   "execution_count": 15,
   "id": "8f1a7437-bcdd-485f-a42d-4a9d17ba85ec",
   "metadata": {},
   "outputs": [],
   "source": [
    "##question- how to install python on windows and set path variables?\n",
    "##answer- 1) install python from installer program from python website\n",
    "#2 we need to create one variable in user section of enviromental variables\n",
    "#3 we need to updatethe variable name and variable value as the location where is installed in window machine"
   ]
  },
  {
   "cell_type": "code",
   "execution_count": 16,
   "id": "80a0f7e0-c1bb-400a-afae-863179ddf2f9",
   "metadata": {},
   "outputs": [],
   "source": [
    "##question- is indentation required in python?\n",
    "##answer- yes,python uses indentation to indicate a block of code\n",
    "#python will give you an error if you skip the indentation"
   ]
  },
  {
   "cell_type": "code",
   "execution_count": null,
   "id": "f7131c42-5884-4404-829c-306a4789bb0f",
   "metadata": {},
   "outputs": [],
   "source": []
  }
 ],
 "metadata": {
  "kernelspec": {
   "display_name": "Python 3 (ipykernel)",
   "language": "python",
   "name": "python3"
  },
  "language_info": {
   "codemirror_mode": {
    "name": "ipython",
    "version": 3
   },
   "file_extension": ".py",
   "mimetype": "text/x-python",
   "name": "python",
   "nbconvert_exporter": "python",
   "pygments_lexer": "ipython3",
   "version": "3.10.8"
  }
 },
 "nbformat": 4,
 "nbformat_minor": 5
}
