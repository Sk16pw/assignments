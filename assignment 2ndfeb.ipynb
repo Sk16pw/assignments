{
 "cells": [
  {
   "cell_type": "code",
   "execution_count": 1,
   "id": "55596a0b-e386-4ccb-8d6a-55036fcacc38",
   "metadata": {},
   "outputs": [],
   "source": [
    "##1st program\n",
    "l = [1,2,3,4,5]"
   ]
  },
  {
   "cell_type": "code",
   "execution_count": 2,
   "id": "bdf5f73a-7e68-484f-9335-474cd3faa3c5",
   "metadata": {},
   "outputs": [
    {
     "data": {
      "text/plain": [
       "[1, 2, 3, 4, 5]"
      ]
     },
     "execution_count": 2,
     "metadata": {},
     "output_type": "execute_result"
    }
   ],
   "source": [
    "l"
   ]
  },
  {
   "cell_type": "code",
   "execution_count": 6,
   "id": "c7354e12-b428-4af0-9f08-63ba2ea9c552",
   "metadata": {},
   "outputs": [
    {
     "name": "stdout",
     "output_type": "stream",
     "text": [
      "1\n",
      "2\n",
      "3\n",
      "4\n",
      "5\n"
     ]
    }
   ],
   "source": [
    "for i in l:\n",
    "    print (i)"
   ]
  },
  {
   "cell_type": "code",
   "execution_count": 8,
   "id": "8e09a499-8121-40a0-ae98-86a1aafc57c5",
   "metadata": {},
   "outputs": [
    {
     "name": "stdout",
     "output_type": "stream",
     "text": [
      "1\n",
      "2\n",
      "3\n",
      "4\n",
      "5\n"
     ]
    }
   ],
   "source": [
    "n = 1\n",
    "while n <= 5:\n",
    "    print(n)\n",
    "    n= n+1\n",
    "    "
   ]
  },
  {
   "cell_type": "code",
   "execution_count": 9,
   "id": "6efd1740-372d-4a11-85fa-93536d8232f6",
   "metadata": {},
   "outputs": [],
   "source": [
    "##2nd program\n",
    "l1 = [1,2,3,4,5,6,7]"
   ]
  },
  {
   "cell_type": "code",
   "execution_count": 10,
   "id": "d7a62905-b602-4dfa-8469-8768e7af862e",
   "metadata": {},
   "outputs": [
    {
     "data": {
      "text/plain": [
       "[1, 2, 3, 4, 5, 6, 7]"
      ]
     },
     "execution_count": 10,
     "metadata": {},
     "output_type": "execute_result"
    }
   ],
   "source": [
    "l1"
   ]
  },
  {
   "cell_type": "code",
   "execution_count": 11,
   "id": "82889d89-eaac-4e27-8653-2637da82ab94",
   "metadata": {},
   "outputs": [
    {
     "data": {
      "text/plain": [
       "28"
      ]
     },
     "execution_count": 11,
     "metadata": {},
     "output_type": "execute_result"
    }
   ],
   "source": [
    "##sum using for loop\n",
    "result=0\n",
    "for i in l1:\n",
    "    result = result + i\n",
    "result\n",
    "    "
   ]
  },
  {
   "cell_type": "code",
   "execution_count": 13,
   "id": "eacad964-3fc3-4d13-b2f8-6a95dc5bce9a",
   "metadata": {},
   "outputs": [
    {
     "data": {
      "text/plain": [
       "5040"
      ]
     },
     "execution_count": 13,
     "metadata": {},
     "output_type": "execute_result"
    }
   ],
   "source": [
    "##product using for loop\n",
    "result=1\n",
    "for i in l1:\n",
    "    result = result * i\n",
    "result"
   ]
  },
  {
   "cell_type": "code",
   "execution_count": 19,
   "id": "8f1627b9-97ef-4022-bb05-69de4b6580db",
   "metadata": {},
   "outputs": [
    {
     "name": "stdin",
     "output_type": "stream",
     "text": [
      "enter the limit 7\n"
     ]
    },
    {
     "data": {
      "text/plain": [
       "28"
      ]
     },
     "execution_count": 19,
     "metadata": {},
     "output_type": "execute_result"
    }
   ],
   "source": [
    "##sum using while loop\n",
    "n = int(input(\"enter the limit\"))\n",
    "starting_point = 0\n",
    "counter = 1\n",
    "\n",
    "while counter <= n:\n",
    "    starting_point = starting_point + counter\n",
    "    counter = counter + 1\n",
    "starting_point\n",
    "    "
   ]
  },
  {
   "cell_type": "code",
   "execution_count": 20,
   "id": "37b8a121-bdad-421b-8abf-cc4cb0f019ea",
   "metadata": {},
   "outputs": [
    {
     "name": "stdin",
     "output_type": "stream",
     "text": [
      "enter the limit 7\n"
     ]
    },
    {
     "data": {
      "text/plain": [
       "5040"
      ]
     },
     "execution_count": 20,
     "metadata": {},
     "output_type": "execute_result"
    }
   ],
   "source": [
    "##product using while loop\n",
    "n1 = int(input(\"enter the limit\"))\n",
    "starting_point = 1\n",
    "counter = 1\n",
    "\n",
    "while counter <=n :\n",
    "    starting_point = starting_point * counter\n",
    "    counter = counter + 1\n",
    "starting_point\n",
    "    \n",
    "         "
   ]
  },
  {
   "cell_type": "code",
   "execution_count": 28,
   "id": "23b4c0ea-a1a1-443a-9b7e-201c8251b757",
   "metadata": {},
   "outputs": [
    {
     "name": "stdin",
     "output_type": "stream",
     "text": [
      "enter your units value 310\n"
     ]
    },
    {
     "name": "stdout",
     "output_type": "stream",
     "text": [
      "2250.0\n"
     ]
    }
   ],
   "source": [
    "##3rd program\n",
    "units_value= int(input(\"enter your units value\"))\n",
    "if units_value <= 100:\n",
    "    totalbill = units_value * 4.5\n",
    "    print(totalbill)\n",
    "elif units_value <=200 and units_value > 100:\n",
    "    totalbill = (100*4.5) + ((units_value - 100)*6)\n",
    "    print(totalbill)\n",
    "elif units_value <=300 and units_value > 200:\n",
    "    totalbill = (100*4.5) + (100*6) + ((units_value - 200)*10)\n",
    "    print(totalbill)\n",
    "else :\n",
    "    totalbill = (100*4.5) + (100*6) + (100*10) + ((units_value - 300)*20)\n",
    "    print(totalbill)\n",
    "    \n",
    "    "
   ]
  },
  {
   "cell_type": "code",
   "execution_count": 10,
   "id": "0e496638-7bb9-4c0e-b29d-3fafee9987e2",
   "metadata": {},
   "outputs": [
    {
     "name": "stdout",
     "output_type": "stream",
     "text": [
      "[8, 64, 125, 216, 512, 1000, 1728, 2744, 3375, 4096, 5832, 8000, 10648, 13824, 15625, 17576, 21952, 27000, 32768, 39304, 42875, 46656, 54872, 64000, 74088, 85184, 91125, 97336, 110592, 125000, 140608, 157464, 166375, 175616, 195112, 216000, 238328, 262144, 274625, 287496, 314432, 343000, 373248, 405224, 421875, 438976, 474552, 512000, 551368, 592704, 614125, 636056, 681472, 729000, 778688, 830584, 857375, 884736, 941192]\n"
     ]
    }
   ],
   "source": [
    "##4th [rogram\n",
    "l = list(range(1,100))\n",
    "l1 = [i**3 for i in l]\n",
    "l2 = [i for i in l1 if i%4==0 or i%5==0]\n",
    "print(l2)\n"
   ]
  },
  {
   "cell_type": "code",
   "execution_count": 28,
   "id": "d13cd8e5-b74e-49b6-98d6-9b4f219b225d",
   "metadata": {},
   "outputs": [
    {
     "data": {
      "text/plain": [
       "11"
      ]
     },
     "execution_count": 28,
     "metadata": {},
     "output_type": "execute_result"
    }
   ],
   "source": [
    "##5th program\n",
    "s = \"I want to become a data scientist\"\n",
    "s.find('a')\n",
    "vowel_count = s.count('a') , s.count('e') , s.count('i') , s.count('o') , s.count('u')\n",
    "vowel_count\n",
    "sum(vowel_count)"
   ]
  },
  {
   "cell_type": "code",
   "execution_count": null,
   "id": "257e4b97-18ff-4dcf-b2a8-6b48f89695bb",
   "metadata": {},
   "outputs": [],
   "source": []
  }
 ],
 "metadata": {
  "kernelspec": {
   "display_name": "Python 3 (ipykernel)",
   "language": "python",
   "name": "python3"
  },
  "language_info": {
   "codemirror_mode": {
    "name": "ipython",
    "version": 3
   },
   "file_extension": ".py",
   "mimetype": "text/x-python",
   "name": "python",
   "nbconvert_exporter": "python",
   "pygments_lexer": "ipython3",
   "version": "3.10.8"
  }
 },
 "nbformat": 4,
 "nbformat_minor": 5
}
