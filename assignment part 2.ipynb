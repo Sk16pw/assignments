{
 "cells": [
  {
   "cell_type": "code",
   "execution_count": 1,
   "id": "24412d32-9d3e-4906-a9a3-33b672771be1",
   "metadata": {},
   "outputs": [
    {
     "name": "stdin",
     "output_type": "stream",
     "text": [
      "enter the marks 75\n"
     ]
    },
    {
     "name": "stdout",
     "output_type": "stream",
     "text": [
      "Grade C\n"
     ]
    }
   ],
   "source": [
    "##1st program\n",
    "marks = int(input(\"enter the marks\"))\n",
    "if marks > 90 :\n",
    "    print(\"Grade A\")\n",
    "elif marks > 80 and marks <= 90 :\n",
    "    print(\"Grade B\")\n",
    "elif marks >= 60 and marks <= 80 :\n",
    "    print(\"Grade C\")\n",
    "else :\n",
    "    print(\"Grade D\")"
   ]
  },
  {
   "cell_type": "code",
   "execution_count": 2,
   "id": "565fb29b-027e-4fff-8635-2cdcb47cf932",
   "metadata": {},
   "outputs": [
    {
     "name": "stdin",
     "output_type": "stream",
     "text": [
      "enter the cost price 75000\n"
     ]
    },
    {
     "name": "stdout",
     "output_type": "stream",
     "text": [
      "the road tax will be paid 10%\n"
     ]
    }
   ],
   "source": [
    "##2nd program\n",
    "cost_price = int(input(\"enter the cost price\"))\n",
    "if cost_price >100000 :\n",
    "    print(\"the road tax will be  paid 15%\")\n",
    "elif cost_price >50000 and cost_price <=100000 :\n",
    "    print(\"the road tax will be paid 10%\")\n",
    "else :\n",
    "    print(\"the road tax will be paid 5%\")\n",
    "    "
   ]
  },
  {
   "cell_type": "code",
   "execution_count": 3,
   "id": "e4767623-6de1-4e4a-ada8-6c80a3de0097",
   "metadata": {},
   "outputs": [
    {
     "name": "stdin",
     "output_type": "stream",
     "text": [
      "enter the city Delhi\n"
     ]
    },
    {
     "name": "stdout",
     "output_type": "stream",
     "text": [
      "monument of city is Red fort\n"
     ]
    }
   ],
   "source": [
    "##3rd program\n",
    "city = input(\"enter the city\")\n",
    "if city == \"Delhi\" :\n",
    "    print(\"monument of city is Red fort\")\n",
    "elif city == \"Agra\" :\n",
    "    print(\"monument of city is Taj mahal\")\n",
    "elif city == \"Jaipur\" :\n",
    "    print(\"monument of city is Jal mahal\")"
   ]
  },
  {
   "cell_type": "code",
   "execution_count": 4,
   "id": "b2db81f2-d379-4f71-9dc1-5381e02d4726",
   "metadata": {},
   "outputs": [
    {
     "name": "stdin",
     "output_type": "stream",
     "text": [
      "enter n 54\n"
     ]
    },
    {
     "name": "stdout",
     "output_type": "stream",
     "text": [
      "2\n"
     ]
    }
   ],
   "source": [
    "##program 4\n",
    "n = int(input(\"enter n\"))\n",
    "i= 0\n",
    "while n > 10 :\n",
    "    n = n/3\n",
    "    i = i+1\n",
    "print(i)"
   ]
  },
  {
   "cell_type": "code",
   "execution_count": 5,
   "id": "42b63d57-cd9d-4666-b8e6-34e364e2a449",
   "metadata": {},
   "outputs": [
    {
     "name": "stdout",
     "output_type": "stream",
     "text": [
      "1\n",
      "2\n",
      "3\n",
      "4\n",
      "5\n"
     ]
    }
   ],
   "source": [
    "## answer of 5th question- while loop is used to run a block of code until a certain condition is met\n",
    "#if condition evaluate to true , the code inside the loop is executed and when condition evaluate to false the loops stop\n",
    "#example\n",
    "i=1\n",
    "n=5\n",
    "while i <= n :\n",
    "    print(i)\n",
    "    i= i+1"
   ]
  },
  {
   "cell_type": "code",
   "execution_count": 6,
   "id": "617d535e-c61a-478b-b127-ebdff3c1df5c",
   "metadata": {},
   "outputs": [
    {
     "name": "stdout",
     "output_type": "stream",
     "text": [
      "10\n",
      "9\n",
      "8\n",
      "7\n",
      "6\n",
      "5\n",
      "4\n",
      "3\n",
      "2\n",
      "1\n"
     ]
    }
   ],
   "source": [
    "##program 7 and 8\n",
    "i = 10\n",
    "while i > 0 :\n",
    "    print(i)\n",
    "    i = i-1"
   ]
  },
  {
   "cell_type": "code",
   "execution_count": null,
   "id": "af66d24d-5a32-4205-8cb2-85afaf58fda9",
   "metadata": {},
   "outputs": [],
   "source": []
  }
 ],
 "metadata": {
  "kernelspec": {
   "display_name": "Python 3 (ipykernel)",
   "language": "python",
   "name": "python3"
  },
  "language_info": {
   "codemirror_mode": {
    "name": "ipython",
    "version": 3
   },
   "file_extension": ".py",
   "mimetype": "text/x-python",
   "name": "python",
   "nbconvert_exporter": "python",
   "pygments_lexer": "ipython3",
   "version": "3.10.8"
  }
 },
 "nbformat": 4,
 "nbformat_minor": 5
}
