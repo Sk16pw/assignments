{
 "cells": [
  {
   "cell_type": "code",
   "execution_count": 1,
   "id": "a2264886-8978-4f4e-b7bd-d972bc0a6d76",
   "metadata": {},
   "outputs": [
    {
     "data": {
      "text/plain": [
       "2"
      ]
     },
     "execution_count": 1,
     "metadata": {},
     "output_type": "execute_result"
    }
   ],
   "source": [
    "1+1"
   ]
  },
  {
   "cell_type": "code",
   "execution_count": null,
   "id": "6742eff8-938f-4779-b51e-3633ff764a98",
   "metadata": {},
   "outputs": [],
   "source": []
  },
  {
   "cell_type": "code",
   "execution_count": 2,
   "id": "15d031d4-4dc2-47fb-92d9-66b4f9c22f7e",
   "metadata": {},
   "outputs": [
    {
     "data": {
      "text/plain": [
       "25"
      ]
     },
     "execution_count": 2,
     "metadata": {},
     "output_type": "execute_result"
    }
   ],
   "source": [
    "5*5"
   ]
  },
  {
   "cell_type": "code",
   "execution_count": 3,
   "id": "acded88d-0a09-4ed2-8252-f8e80fa4e6f9",
   "metadata": {},
   "outputs": [
    {
     "data": {
      "text/plain": [
       "2"
      ]
     },
     "execution_count": 3,
     "metadata": {},
     "output_type": "execute_result"
    }
   ],
   "source": [
    "1+1"
   ]
  },
  {
   "cell_type": "code",
   "execution_count": 4,
   "id": "772a6fd5-f353-4783-8fcc-09e37ebbfd4d",
   "metadata": {},
   "outputs": [
    {
     "data": {
      "text/plain": [
       "4"
      ]
     },
     "execution_count": 4,
     "metadata": {},
     "output_type": "execute_result"
    }
   ],
   "source": [
    "6-2"
   ]
  },
  {
   "cell_type": "code",
   "execution_count": 5,
   "id": "33df257c-4ad8-4aa3-ace6-04f2dba72216",
   "metadata": {},
   "outputs": [
    {
     "data": {
      "text/plain": [
       "2"
      ]
     },
     "execution_count": 5,
     "metadata": {},
     "output_type": "execute_result"
    }
   ],
   "source": [
    "1+1"
   ]
  },
  {
   "cell_type": "code",
   "execution_count": 6,
   "id": "019d5509-c997-4363-a13a-aa4576511bd5",
   "metadata": {},
   "outputs": [],
   "source": [
    "soni = 17"
   ]
  },
  {
   "cell_type": "code",
   "execution_count": 7,
   "id": "38253bcd-b494-401b-a12a-ba82bf2c89d7",
   "metadata": {},
   "outputs": [
    {
     "data": {
      "text/plain": [
       "17"
      ]
     },
     "execution_count": 7,
     "metadata": {},
     "output_type": "execute_result"
    }
   ],
   "source": [
    "soni"
   ]
  },
  {
   "cell_type": "code",
   "execution_count": 8,
   "id": "14ab9068-fad7-4aec-a011-d3fb5d14a5e5",
   "metadata": {},
   "outputs": [
    {
     "data": {
      "text/plain": [
       "int"
      ]
     },
     "execution_count": 8,
     "metadata": {},
     "output_type": "execute_result"
    }
   ],
   "source": [
    "type(soni)"
   ]
  },
  {
   "cell_type": "code",
   "execution_count": 9,
   "id": "ba0cfc85-4079-4ee3-9773-53706bda0878",
   "metadata": {},
   "outputs": [],
   "source": [
    "a = 3.25"
   ]
  },
  {
   "cell_type": "code",
   "execution_count": 10,
   "id": "48baf3ce-4c00-4a25-ac1c-6e25bdedc721",
   "metadata": {},
   "outputs": [
    {
     "ename": "NameError",
     "evalue": "name 'b' is not defined",
     "output_type": "error",
     "traceback": [
      "\u001b[0;31m---------------------------------------------------------------------------\u001b[0m",
      "\u001b[0;31mNameError\u001b[0m                                 Traceback (most recent call last)",
      "Cell \u001b[0;32mIn[10], line 1\u001b[0m\n\u001b[0;32m----> 1\u001b[0m \u001b[38;5;28mtype\u001b[39m(\u001b[43mb\u001b[49m)\n",
      "\u001b[0;31mNameError\u001b[0m: name 'b' is not defined"
     ]
    }
   ],
   "source": [
    "type(b)"
   ]
  },
  {
   "cell_type": "code",
   "execution_count": 11,
   "id": "a6fdbfc3-9c15-4296-8e34-6146abbcadbe",
   "metadata": {},
   "outputs": [
    {
     "data": {
      "text/plain": [
       "float"
      ]
     },
     "execution_count": 11,
     "metadata": {},
     "output_type": "execute_result"
    }
   ],
   "source": [
    "type(a)"
   ]
  },
  {
   "cell_type": "code",
   "execution_count": 12,
   "id": "db0e16fd-814b-46ca-92f1-668d053e13c6",
   "metadata": {},
   "outputs": [],
   "source": [
    "b = \"soni\""
   ]
  },
  {
   "cell_type": "code",
   "execution_count": 13,
   "id": "e3ceb795-45b4-4efc-bce6-b6e305eeb2fe",
   "metadata": {},
   "outputs": [
    {
     "data": {
      "text/plain": [
       "str"
      ]
     },
     "execution_count": 13,
     "metadata": {},
     "output_type": "execute_result"
    }
   ],
   "source": [
    "type (b)"
   ]
  },
  {
   "cell_type": "code",
   "execution_count": 14,
   "id": "4046db84-8475-41ad-a360-3368432cbd01",
   "metadata": {},
   "outputs": [],
   "source": [
    "c = 'this is my first tech class'"
   ]
  },
  {
   "cell_type": "code",
   "execution_count": 15,
   "id": "0b6a3407-dfd1-45fe-b39a-77cbb99e153d",
   "metadata": {},
   "outputs": [
    {
     "data": {
      "text/plain": [
       "str"
      ]
     },
     "execution_count": 15,
     "metadata": {},
     "output_type": "execute_result"
    }
   ],
   "source": [
    "type(c)"
   ]
  },
  {
   "cell_type": "code",
   "execution_count": 16,
   "id": "e27089be-8c59-466a-8bf6-670d07297d13",
   "metadata": {},
   "outputs": [],
   "source": [
    "n = True"
   ]
  },
  {
   "cell_type": "code",
   "execution_count": 17,
   "id": "eadadc73-a7bc-469d-ae53-a1d266abb104",
   "metadata": {},
   "outputs": [
    {
     "data": {
      "text/plain": [
       "bool"
      ]
     },
     "execution_count": 17,
     "metadata": {},
     "output_type": "execute_result"
    }
   ],
   "source": [
    "type(n)"
   ]
  },
  {
   "cell_type": "code",
   "execution_count": 18,
   "id": "5fabe04e-4bc0-44a1-8221-88238c946251",
   "metadata": {},
   "outputs": [],
   "source": [
    "m = False"
   ]
  },
  {
   "cell_type": "code",
   "execution_count": 19,
   "id": "6a393403-0dc0-461f-a593-954c83338682",
   "metadata": {},
   "outputs": [
    {
     "data": {
      "text/plain": [
       "bool"
      ]
     },
     "execution_count": 19,
     "metadata": {},
     "output_type": "execute_result"
    }
   ],
   "source": [
    "type(m)"
   ]
  },
  {
   "cell_type": "code",
   "execution_count": 20,
   "id": "03866906-b208-4797-bad8-07a71b7eab81",
   "metadata": {},
   "outputs": [
    {
     "data": {
      "text/plain": [
       "1"
      ]
     },
     "execution_count": 20,
     "metadata": {},
     "output_type": "execute_result"
    }
   ],
   "source": [
    "n+m"
   ]
  },
  {
   "cell_type": "code",
   "execution_count": 21,
   "id": "b45f40fb-d43d-4396-85dd-378ce5dc1f35",
   "metadata": {},
   "outputs": [
    {
     "ename": "ZeroDivisionError",
     "evalue": "division by zero",
     "output_type": "error",
     "traceback": [
      "\u001b[0;31m---------------------------------------------------------------------------\u001b[0m",
      "\u001b[0;31mZeroDivisionError\u001b[0m                         Traceback (most recent call last)",
      "Cell \u001b[0;32mIn[21], line 1\u001b[0m\n\u001b[0;32m----> 1\u001b[0m \u001b[38;5;28;43;01mTrue\u001b[39;49;00m\u001b[43m \u001b[49m\u001b[38;5;241;43m/\u001b[39;49m\u001b[43m \u001b[49m\u001b[38;5;28;43;01mFalse\u001b[39;49;00m\n",
      "\u001b[0;31mZeroDivisionError\u001b[0m: division by zero"
     ]
    }
   ],
   "source": [
    "True / False"
   ]
  },
  {
   "cell_type": "code",
   "execution_count": 22,
   "id": "3b098b90-4b28-4593-86ef-8cc347d92b50",
   "metadata": {},
   "outputs": [
    {
     "data": {
      "text/plain": [
       "0"
      ]
     },
     "execution_count": 22,
     "metadata": {},
     "output_type": "execute_result"
    }
   ],
   "source": [
    "True * False"
   ]
  },
  {
   "cell_type": "code",
   "execution_count": 23,
   "id": "745a2c55-ed9b-45b5-9f5a-c1395a58126b",
   "metadata": {},
   "outputs": [],
   "source": [
    "v = 5 + 8j"
   ]
  },
  {
   "cell_type": "code",
   "execution_count": 24,
   "id": "90195c23-cd8c-475e-b356-e7b7c0df1eca",
   "metadata": {},
   "outputs": [
    {
     "data": {
      "text/plain": [
       "complex"
      ]
     },
     "execution_count": 24,
     "metadata": {},
     "output_type": "execute_result"
    }
   ],
   "source": [
    "type(v)"
   ]
  },
  {
   "cell_type": "code",
   "execution_count": 25,
   "id": "2776ece1-7a57-4cc4-a9c7-33cb64a8fbe5",
   "metadata": {},
   "outputs": [
    {
     "data": {
      "text/plain": [
       "5.0"
      ]
     },
     "execution_count": 25,
     "metadata": {},
     "output_type": "execute_result"
    }
   ],
   "source": [
    "v.real"
   ]
  },
  {
   "cell_type": "code",
   "execution_count": 26,
   "id": "9c95c833-5a33-4abc-a15f-5b1be3b6bef2",
   "metadata": {},
   "outputs": [
    {
     "data": {
      "text/plain": [
       "8.0"
      ]
     },
     "execution_count": 26,
     "metadata": {},
     "output_type": "execute_result"
    }
   ],
   "source": [
    "v.imag"
   ]
  },
  {
   "cell_type": "code",
   "execution_count": 27,
   "id": "3da6736a-95df-4fe6-8f9f-1d3a6048fd48",
   "metadata": {},
   "outputs": [
    {
     "name": "stdout",
     "output_type": "stream",
     "text": [
      "My name is soni\n"
     ]
    }
   ],
   "source": [
    "print(\"My name is soni\")"
   ]
  },
  {
   "cell_type": "code",
   "execution_count": 28,
   "id": "3e6ad3ac-012c-4974-8e7e-0bdeabb7e9f5",
   "metadata": {},
   "outputs": [
    {
     "name": "stdout",
     "output_type": "stream",
     "text": [
      "3.25\n"
     ]
    }
   ],
   "source": [
    "print(a)"
   ]
  },
  {
   "cell_type": "code",
   "execution_count": 29,
   "id": "403b29c9-21dc-4b91-9d40-16d04abb17cd",
   "metadata": {},
   "outputs": [
    {
     "name": "stdout",
     "output_type": "stream",
     "text": [
      "(5+8j)\n"
     ]
    }
   ],
   "source": [
    "print(v)"
   ]
  },
  {
   "cell_type": "code",
   "execution_count": 30,
   "id": "216c3928-898a-46b3-8e90-5426f7dcaf31",
   "metadata": {},
   "outputs": [],
   "source": [
    "s = 'pwskill'"
   ]
  },
  {
   "cell_type": "code",
   "execution_count": 31,
   "id": "ba15e5af-fc0a-444e-b38a-0afbfe034e9d",
   "metadata": {},
   "outputs": [
    {
     "data": {
      "text/plain": [
       "str"
      ]
     },
     "execution_count": 31,
     "metadata": {},
     "output_type": "execute_result"
    }
   ],
   "source": [
    "type(s)"
   ]
  },
  {
   "cell_type": "code",
   "execution_count": 32,
   "id": "7d99fdd6-3ed5-4f7a-807f-ee88b6642d5a",
   "metadata": {},
   "outputs": [
    {
     "ename": "SyntaxError",
     "evalue": "invalid syntax (2655317519.py, line 1)",
     "output_type": "error",
     "traceback": [
      "\u001b[0;36m  Cell \u001b[0;32mIn[32], line 1\u001b[0;36m\u001b[0m\n\u001b[0;31m    s.0\u001b[0m\n\u001b[0m     ^\u001b[0m\n\u001b[0;31mSyntaxError\u001b[0m\u001b[0;31m:\u001b[0m invalid syntax\n"
     ]
    }
   ],
   "source": [
    "s.0"
   ]
  },
  {
   "cell_type": "code",
   "execution_count": 33,
   "id": "77309dbc-669d-49b4-ba9f-53bf730147bf",
   "metadata": {},
   "outputs": [
    {
     "data": {
      "text/plain": [
       "'p'"
      ]
     },
     "execution_count": 33,
     "metadata": {},
     "output_type": "execute_result"
    }
   ],
   "source": [
    "s[0]"
   ]
  },
  {
   "cell_type": "code",
   "execution_count": 34,
   "id": "ef9b4346-c4f8-435a-9198-e4c332f49fa4",
   "metadata": {},
   "outputs": [
    {
     "data": {
      "text/plain": [
       "'s'"
      ]
     },
     "execution_count": 34,
     "metadata": {},
     "output_type": "execute_result"
    }
   ],
   "source": [
    "s[2]"
   ]
  },
  {
   "cell_type": "code",
   "execution_count": 35,
   "id": "1c55e4c8-b3a9-4fd8-9ac5-4c5b2c525c59",
   "metadata": {},
   "outputs": [
    {
     "data": {
      "text/plain": [
       "'l'"
      ]
     },
     "execution_count": 35,
     "metadata": {},
     "output_type": "execute_result"
    }
   ],
   "source": [
    "s[-1]"
   ]
  },
  {
   "cell_type": "code",
   "execution_count": 36,
   "id": "4d8a3af1-dc96-4771-8844-20530085cd27",
   "metadata": {},
   "outputs": [
    {
     "data": {
      "text/plain": [
       "'pws'"
      ]
     },
     "execution_count": 36,
     "metadata": {},
     "output_type": "execute_result"
    }
   ],
   "source": [
    "s[0:3]"
   ]
  },
  {
   "cell_type": "code",
   "execution_count": 37,
   "id": "2f78b59d-c8c8-4451-821e-3847e9293b92",
   "metadata": {},
   "outputs": [
    {
     "data": {
      "text/plain": [
       "'pwskil'"
      ]
     },
     "execution_count": 37,
     "metadata": {},
     "output_type": "execute_result"
    }
   ],
   "source": [
    "s[0:6]"
   ]
  },
  {
   "cell_type": "code",
   "execution_count": 38,
   "id": "83496c6d-6701-4bdf-a711-0b57e7d4abd2",
   "metadata": {},
   "outputs": [
    {
     "data": {
      "text/plain": [
       "'pwsk'"
      ]
     },
     "execution_count": 38,
     "metadata": {},
     "output_type": "execute_result"
    }
   ],
   "source": [
    "s[0:4]"
   ]
  },
  {
   "cell_type": "code",
   "execution_count": 39,
   "id": "7ba54a3c-e832-41be-9cd0-069a97d34674",
   "metadata": {},
   "outputs": [
    {
     "data": {
      "text/plain": [
       "'psil'"
      ]
     },
     "execution_count": 39,
     "metadata": {},
     "output_type": "execute_result"
    }
   ],
   "source": [
    "s[0:7:2]"
   ]
  },
  {
   "cell_type": "code",
   "execution_count": 40,
   "id": "3876465f-ea5b-4d09-8843-adf84c4e1fee",
   "metadata": {},
   "outputs": [
    {
     "data": {
      "text/plain": [
       "'psil'"
      ]
     },
     "execution_count": 40,
     "metadata": {},
     "output_type": "execute_result"
    }
   ],
   "source": [
    "s[::2]"
   ]
  },
  {
   "cell_type": "code",
   "execution_count": 41,
   "id": "6cba8e7a-a848-4550-b93e-7518d90ce8ec",
   "metadata": {},
   "outputs": [
    {
     "data": {
      "text/plain": [
       "'psil'"
      ]
     },
     "execution_count": 41,
     "metadata": {},
     "output_type": "execute_result"
    }
   ],
   "source": [
    "s[0::2]"
   ]
  },
  {
   "cell_type": "code",
   "execution_count": 42,
   "id": "261fafda-ecec-435b-a5fa-8be8781bc898",
   "metadata": {},
   "outputs": [
    {
     "data": {
      "text/plain": [
       "'sil'"
      ]
     },
     "execution_count": 42,
     "metadata": {},
     "output_type": "execute_result"
    }
   ],
   "source": [
    "s[2::2]"
   ]
  },
  {
   "cell_type": "code",
   "execution_count": 43,
   "id": "6851833c-239b-4e4e-9578-c017b93daedd",
   "metadata": {},
   "outputs": [
    {
     "data": {
      "text/plain": [
       "'llikswp'"
      ]
     },
     "execution_count": 43,
     "metadata": {},
     "output_type": "execute_result"
    }
   ],
   "source": [
    "s[::-1]"
   ]
  },
  {
   "cell_type": "code",
   "execution_count": 44,
   "id": "26b073cc-0908-415e-a2ef-a069338260f4",
   "metadata": {},
   "outputs": [
    {
     "data": {
      "text/plain": [
       "''"
      ]
     },
     "execution_count": 44,
     "metadata": {},
     "output_type": "execute_result"
    }
   ],
   "source": [
    "s[2:7:-1]"
   ]
  },
  {
   "cell_type": "code",
   "execution_count": 45,
   "id": "f273c0a5-e1df-4574-b1c7-609d9a8b526e",
   "metadata": {},
   "outputs": [
    {
     "data": {
      "text/plain": [
       "''"
      ]
     },
     "execution_count": 45,
     "metadata": {},
     "output_type": "execute_result"
    }
   ],
   "source": [
    "s[8:0]"
   ]
  },
  {
   "cell_type": "code",
   "execution_count": 46,
   "id": "212516fe-7772-46c6-a3a9-cfa90ed629cb",
   "metadata": {},
   "outputs": [
    {
     "data": {
      "text/plain": [
       "'lliksw'"
      ]
     },
     "execution_count": 46,
     "metadata": {},
     "output_type": "execute_result"
    }
   ],
   "source": [
    "s[8:0:-1]"
   ]
  },
  {
   "cell_type": "code",
   "execution_count": 47,
   "id": "5ad8c37e-3b43-4d92-af13-12ed3510a018",
   "metadata": {},
   "outputs": [
    {
     "data": {
      "text/plain": [
       "''"
      ]
     },
     "execution_count": 47,
     "metadata": {},
     "output_type": "execute_result"
    }
   ],
   "source": [
    "s[8:-1:-1]"
   ]
  },
  {
   "cell_type": "code",
   "execution_count": 48,
   "id": "8f3884d6-ef89-4a85-8db4-bb6660247eff",
   "metadata": {},
   "outputs": [
    {
     "data": {
      "text/plain": [
       "'lliksw'"
      ]
     },
     "execution_count": 48,
     "metadata": {},
     "output_type": "execute_result"
    }
   ],
   "source": [
    "s[6:0:-1]"
   ]
  },
  {
   "cell_type": "code",
   "execution_count": 49,
   "id": "9b10c7cf-3f76-47fc-a053-06ffe7d5c4de",
   "metadata": {},
   "outputs": [
    {
     "data": {
      "text/plain": [
       "''"
      ]
     },
     "execution_count": 49,
     "metadata": {},
     "output_type": "execute_result"
    }
   ],
   "source": [
    "s[-2:-8:1]"
   ]
  },
  {
   "cell_type": "code",
   "execution_count": 50,
   "id": "f6bdebd6-ddf9-4aa4-be87-75b052248b94",
   "metadata": {},
   "outputs": [
    {
     "data": {
      "text/plain": [
       "'likswp'"
      ]
     },
     "execution_count": 50,
     "metadata": {},
     "output_type": "execute_result"
    }
   ],
   "source": [
    "s[-2:-8:-1]"
   ]
  },
  {
   "cell_type": "code",
   "execution_count": 51,
   "id": "557c1635-0919-4ba7-b5e2-e57136e5bb6d",
   "metadata": {},
   "outputs": [
    {
     "data": {
      "text/plain": [
       "'likswp'"
      ]
     },
     "execution_count": 51,
     "metadata": {},
     "output_type": "execute_result"
    }
   ],
   "source": [
    "s[-2::-1]"
   ]
  },
  {
   "cell_type": "code",
   "execution_count": 52,
   "id": "81286076-ee71-45a1-bea6-ff41329d8da7",
   "metadata": {},
   "outputs": [
    {
     "ename": "SyntaxError",
     "evalue": "invalid syntax (2695193844.py, line 1)",
     "output_type": "error",
     "traceback": [
      "\u001b[0;36m  Cell \u001b[0;32mIn[52], line 1\u001b[0;36m\u001b[0m\n\u001b[0;31m    s[::-]\u001b[0m\n\u001b[0m         ^\u001b[0m\n\u001b[0;31mSyntaxError\u001b[0m\u001b[0;31m:\u001b[0m invalid syntax\n"
     ]
    }
   ],
   "source": [
    "s[::-]"
   ]
  },
  {
   "cell_type": "code",
   "execution_count": 53,
   "id": "a9600336-9f7d-44c3-be4a-415c62939974",
   "metadata": {},
   "outputs": [
    {
     "data": {
      "text/plain": [
       "'llikswp'"
      ]
     },
     "execution_count": 53,
     "metadata": {},
     "output_type": "execute_result"
    }
   ],
   "source": [
    "s[::-1]"
   ]
  },
  {
   "cell_type": "code",
   "execution_count": 54,
   "id": "81f71359-850c-4695-bdb4-93faa33a3c40",
   "metadata": {},
   "outputs": [
    {
     "data": {
      "text/plain": [
       "'llikswp'"
      ]
     },
     "execution_count": 54,
     "metadata": {},
     "output_type": "execute_result"
    }
   ],
   "source": [
    "s[:-8:-1]"
   ]
  },
  {
   "cell_type": "code",
   "execution_count": 55,
   "id": "e34ce1e3-1c95-465c-b7ca-7b59926c594f",
   "metadata": {},
   "outputs": [
    {
     "data": {
      "text/plain": [
       "''"
      ]
     },
     "execution_count": 55,
     "metadata": {},
     "output_type": "execute_result"
    }
   ],
   "source": [
    "s[:-98:]"
   ]
  },
  {
   "cell_type": "code",
   "execution_count": 56,
   "id": "93d32944-8271-4988-ae73-f06cbfebdf43",
   "metadata": {},
   "outputs": [
    {
     "ename": "IndexError",
     "evalue": "string index out of range",
     "output_type": "error",
     "traceback": [
      "\u001b[0;31m---------------------------------------------------------------------------\u001b[0m",
      "\u001b[0;31mIndexError\u001b[0m                                Traceback (most recent call last)",
      "Cell \u001b[0;32mIn[56], line 1\u001b[0m\n\u001b[0;32m----> 1\u001b[0m \u001b[43ms\u001b[49m\u001b[43m[\u001b[49m\u001b[38;5;241;43m90\u001b[39;49m\u001b[43m]\u001b[49m\n",
      "\u001b[0;31mIndexError\u001b[0m: string index out of range"
     ]
    }
   ],
   "source": [
    "s[90]"
   ]
  },
  {
   "cell_type": "code",
   "execution_count": 57,
   "id": "c5b251b6-a4bc-4f3d-a040-2fce13612563",
   "metadata": {},
   "outputs": [
    {
     "data": {
      "text/plain": [
       "'llikswp'"
      ]
     },
     "execution_count": 57,
     "metadata": {},
     "output_type": "execute_result"
    }
   ],
   "source": [
    "s[:-90:-1]"
   ]
  },
  {
   "cell_type": "code",
   "execution_count": 58,
   "id": "d288b5f3-93f6-49b5-965e-3d27d0cfcc23",
   "metadata": {},
   "outputs": [],
   "source": [
    "c = 200"
   ]
  },
  {
   "cell_type": "code",
   "execution_count": 59,
   "id": "3adee1f1-0f77-42a8-a075-0eb90040de50",
   "metadata": {},
   "outputs": [
    {
     "ename": "TypeError",
     "evalue": "'int' object is not subscriptable",
     "output_type": "error",
     "traceback": [
      "\u001b[0;31m---------------------------------------------------------------------------\u001b[0m",
      "\u001b[0;31mTypeError\u001b[0m                                 Traceback (most recent call last)",
      "Cell \u001b[0;32mIn[59], line 1\u001b[0m\n\u001b[0;32m----> 1\u001b[0m \u001b[43mc\u001b[49m\u001b[43m[\u001b[49m\u001b[38;5;241;43m2\u001b[39;49m\u001b[43m]\u001b[49m\n",
      "\u001b[0;31mTypeError\u001b[0m: 'int' object is not subscriptable"
     ]
    }
   ],
   "source": [
    "c[2]"
   ]
  },
  {
   "cell_type": "code",
   "execution_count": 60,
   "id": "e7aebd85-2709-473c-bd19-731fdbdccf11",
   "metadata": {},
   "outputs": [],
   "source": [
    "s1 = \"this is my lab class\""
   ]
  },
  {
   "cell_type": "code",
   "execution_count": 61,
   "id": "260e93d6-f9aa-4e60-9ee6-ca652a98990b",
   "metadata": {},
   "outputs": [
    {
     "data": {
      "text/plain": [
       "20"
      ]
     },
     "execution_count": 61,
     "metadata": {},
     "output_type": "execute_result"
    }
   ],
   "source": [
    "len(s1)"
   ]
  },
  {
   "cell_type": "code",
   "execution_count": 62,
   "id": "16a6a9e7-7d6e-4d23-967e-7aaad6e2fb1e",
   "metadata": {},
   "outputs": [
    {
     "data": {
      "text/plain": [
       "3"
      ]
     },
     "execution_count": 62,
     "metadata": {},
     "output_type": "execute_result"
    }
   ],
   "source": [
    "s1.find('s')"
   ]
  },
  {
   "cell_type": "code",
   "execution_count": 63,
   "id": "fcc64554-43b1-4834-927b-07804da1f424",
   "metadata": {},
   "outputs": [
    {
     "data": {
      "text/plain": [
       "2"
      ]
     },
     "execution_count": 63,
     "metadata": {},
     "output_type": "execute_result"
    }
   ],
   "source": [
    "s1.find(\"is\")"
   ]
  },
  {
   "cell_type": "code",
   "execution_count": 64,
   "id": "46ebc9ea-a69d-44d5-ad3f-d7c679d76036",
   "metadata": {},
   "outputs": [
    {
     "data": {
      "text/plain": [
       "-1"
      ]
     },
     "execution_count": 64,
     "metadata": {},
     "output_type": "execute_result"
    }
   ],
   "source": [
    "s1.find(\"iS\")"
   ]
  },
  {
   "cell_type": "code",
   "execution_count": 65,
   "id": "b8d4955a-a919-4bdc-8e82-6ff3c090e0c6",
   "metadata": {},
   "outputs": [
    {
     "data": {
      "text/plain": [
       "12"
      ]
     },
     "execution_count": 65,
     "metadata": {},
     "output_type": "execute_result"
    }
   ],
   "source": [
    "s1.find('a')"
   ]
  },
  {
   "cell_type": "markdown",
   "id": "f76dc204-e7b0-426b-978f-b7949204ade8",
   "metadata": {},
   "source": [
    "s1.count('s')"
   ]
  },
  {
   "cell_type": "code",
   "execution_count": 66,
   "id": "7e330ebb-ec2a-4e4c-b0a4-569b38ab0ad4",
   "metadata": {},
   "outputs": [
    {
     "data": {
      "text/plain": [
       "2"
      ]
     },
     "execution_count": 66,
     "metadata": {},
     "output_type": "execute_result"
    }
   ],
   "source": [
    "s1.count('a')"
   ]
  },
  {
   "cell_type": "code",
   "execution_count": 67,
   "id": "1f6d9bc2-bd94-494b-b6e8-7700f9d783db",
   "metadata": {},
   "outputs": [
    {
     "data": {
      "text/plain": [
       "'this is my lab class'"
      ]
     },
     "execution_count": 67,
     "metadata": {},
     "output_type": "execute_result"
    }
   ],
   "source": [
    "s1"
   ]
  },
  {
   "cell_type": "code",
   "execution_count": 68,
   "id": "6077b22a-e479-4fbc-9a6f-03c9a9fae45a",
   "metadata": {},
   "outputs": [
    {
     "data": {
      "text/plain": [
       "'THIS IS MY LAB CLASS'"
      ]
     },
     "execution_count": 68,
     "metadata": {},
     "output_type": "execute_result"
    }
   ],
   "source": [
    "s1.upper()"
   ]
  },
  {
   "cell_type": "code",
   "execution_count": 69,
   "id": "5c2ea022-ff1d-49a3-9827-17b00343d2da",
   "metadata": {},
   "outputs": [
    {
     "data": {
      "text/plain": [
       "'This Is My Lab Class'"
      ]
     },
     "execution_count": 69,
     "metadata": {},
     "output_type": "execute_result"
    }
   ],
   "source": [
    "s1.title()"
   ]
  },
  {
   "cell_type": "code",
   "execution_count": 70,
   "id": "7debc6b4-85ee-47f1-b8f3-53d7d164d3ef",
   "metadata": {},
   "outputs": [
    {
     "data": {
      "text/plain": [
       "'This is my lab class'"
      ]
     },
     "execution_count": 70,
     "metadata": {},
     "output_type": "execute_result"
    }
   ],
   "source": [
    "s1.capitalize()"
   ]
  },
  {
   "cell_type": "code",
   "execution_count": 71,
   "id": "66c422ed-a075-470d-b86e-09171f3c59ab",
   "metadata": {},
   "outputs": [
    {
     "ename": "TypeError",
     "evalue": "can only concatenate str (not \"int\") to str",
     "output_type": "error",
     "traceback": [
      "\u001b[0;31m---------------------------------------------------------------------------\u001b[0m",
      "\u001b[0;31mTypeError\u001b[0m                                 Traceback (most recent call last)",
      "Cell \u001b[0;32mIn[71], line 1\u001b[0m\n\u001b[0;32m----> 1\u001b[0m \u001b[43ms\u001b[49m\u001b[38;5;241;43m+\u001b[39;49m\u001b[38;5;241;43m1\u001b[39;49m\n",
      "\u001b[0;31mTypeError\u001b[0m: can only concatenate str (not \"int\") to str"
     ]
    }
   ],
   "source": [
    "s+1"
   ]
  },
  {
   "cell_type": "code",
   "execution_count": 72,
   "id": "77dcd3cf-df33-4dbf-ba5c-eccbc99454a1",
   "metadata": {},
   "outputs": [
    {
     "data": {
      "text/plain": [
       "'pwskills1'"
      ]
     },
     "execution_count": 72,
     "metadata": {},
     "output_type": "execute_result"
    }
   ],
   "source": [
    "s + \"s1\""
   ]
  },
  {
   "cell_type": "code",
   "execution_count": 73,
   "id": "ac555b81-c452-4b63-89f0-5dff03e05336",
   "metadata": {},
   "outputs": [
    {
     "data": {
      "text/plain": [
       "'pwskill1'"
      ]
     },
     "execution_count": 73,
     "metadata": {},
     "output_type": "execute_result"
    }
   ],
   "source": [
    "s + '1'"
   ]
  },
  {
   "cell_type": "code",
   "execution_count": 74,
   "id": "ddb075d5-f29a-4629-8ab0-335eaeedce5f",
   "metadata": {},
   "outputs": [
    {
     "data": {
      "text/plain": [
       "'pwskillpwskillpwskill'"
      ]
     },
     "execution_count": 74,
     "metadata": {},
     "output_type": "execute_result"
    }
   ],
   "source": [
    "s * 3"
   ]
  },
  {
   "cell_type": "code",
   "execution_count": 75,
   "id": "41a15547-25d3-402c-b946-0fe67daf5306",
   "metadata": {},
   "outputs": [
    {
     "data": {
      "text/plain": [
       "'s1s1s1s1'"
      ]
     },
     "execution_count": 75,
     "metadata": {},
     "output_type": "execute_result"
    }
   ],
   "source": [
    "\"s1\" * 4"
   ]
  },
  {
   "cell_type": "code",
   "execution_count": 76,
   "id": "2ff6d82c-4f0b-46b2-a0ef-69b3c5736af3",
   "metadata": {},
   "outputs": [
    {
     "ename": "TypeError",
     "evalue": "unsupported operand type(s) for /: 'str' and 'int'",
     "output_type": "error",
     "traceback": [
      "\u001b[0;31m---------------------------------------------------------------------------\u001b[0m",
      "\u001b[0;31mTypeError\u001b[0m                                 Traceback (most recent call last)",
      "Cell \u001b[0;32mIn[76], line 1\u001b[0m\n\u001b[0;32m----> 1\u001b[0m \u001b[38;5;124;43m\"\u001b[39;49m\u001b[38;5;124;43ms1\u001b[39;49m\u001b[38;5;124;43m\"\u001b[39;49m\u001b[43m \u001b[49m\u001b[38;5;241;43m/\u001b[39;49m\u001b[43m \u001b[49m\u001b[38;5;241;43m4\u001b[39;49m\n",
      "\u001b[0;31mTypeError\u001b[0m: unsupported operand type(s) for /: 'str' and 'int'"
     ]
    }
   ],
   "source": [
    "\"s1\" / 4"
   ]
  },
  {
   "cell_type": "code",
   "execution_count": 78,
   "id": "ccbea7a3-74a3-4cbc-9925-af038146618b",
   "metadata": {},
   "outputs": [
    {
     "data": {
      "text/plain": [
       "\"don't do copy and paste in my class\""
      ]
     },
     "execution_count": 78,
     "metadata": {},
     "output_type": "execute_result"
    }
   ],
   "source": [
    "\"don't do copy and paste in my class\""
   ]
  },
  {
   "cell_type": "code",
   "execution_count": 79,
   "id": "fd080d4b-ba0a-44af-8ea6-4ebba2511e12",
   "metadata": {},
   "outputs": [
    {
     "ename": "SyntaxError",
     "evalue": "invalid syntax (1831461186.py, line 1)",
     "output_type": "error",
     "traceback": [
      "\u001b[0;36m  Cell \u001b[0;32mIn[79], line 1\u001b[0;36m\u001b[0m\n\u001b[0;31m    This is my first class for programming\u001b[0m\n\u001b[0m               ^\u001b[0m\n\u001b[0;31mSyntaxError\u001b[0m\u001b[0;31m:\u001b[0m invalid syntax\n"
     ]
    }
   ],
   "source": [
    "This is my first class for programming"
   ]
  },
  {
   "cell_type": "code",
   "execution_count": null,
   "id": "92bb2609-cd00-4250-8b49-4b7f04bec961",
   "metadata": {},
   "outputs": [],
   "source": [
    "##This is my first class for programming"
   ]
  },
  {
   "cell_type": "code",
   "execution_count": 80,
   "id": "b779eab0-6964-4f58-a291-5291f5659e9f",
   "metadata": {},
   "outputs": [],
   "source": [
    "#This is my first class for programming"
   ]
  },
  {
   "cell_type": "code",
   "execution_count": 81,
   "id": "62374042-a380-419e-a0d6-d7750d5b5026",
   "metadata": {},
   "outputs": [
    {
     "data": {
      "text/plain": [
       "'This is my first class for programming\\ni have leant variable declaration , datatype ,string , int , boolean , complax number\\ni have seen some eample of string slicing and indexing\\nihave gone through some of the string inbuilt function'"
      ]
     },
     "execution_count": 81,
     "metadata": {},
     "output_type": "execute_result"
    }
   ],
   "source": [
    "This is my first class for programming\n",
    "i have leant variable declaration , datatype ,string , int , boolean , complax number\n",
    "i have seen some eample of string slicing and indexing\n",
    "ihave gone through some of the string inbuilt function"
   ]
  },
  {
   "cell_type": "code",
   "execution_count": 86,
   "id": "8b1e0022-13c8-47f0-8bd0-df97f6358fea",
   "metadata": {},
   "outputs": [],
   "source": [
    "s = \"pwskill\""
   ]
  },
  {
   "cell_type": "code",
   "execution_count": 87,
   "id": "c2c48b13-53a5-4d13-bfce-49fe2c946ee3",
   "metadata": {},
   "outputs": [
    {
     "data": {
      "text/plain": [
       "'pwskill'"
      ]
     },
     "execution_count": 87,
     "metadata": {},
     "output_type": "execute_result"
    }
   ],
   "source": [
    "s"
   ]
  },
  {
   "cell_type": "code",
   "execution_count": 88,
   "id": "f8c061eb-b390-4816-99e4-abb9a496e783",
   "metadata": {},
   "outputs": [
    {
     "data": {
      "text/plain": [
       "'pwskill'"
      ]
     },
     "execution_count": 88,
     "metadata": {},
     "output_type": "execute_result"
    }
   ],
   "source": [
    "s[:90:1]"
   ]
  },
  {
   "cell_type": "code",
   "execution_count": 89,
   "id": "fdbb9618-6fd3-4a01-b44c-2ee5cfafb1c4",
   "metadata": {},
   "outputs": [
    {
     "data": {
      "text/plain": [
       "''"
      ]
     },
     "execution_count": 89,
     "metadata": {},
     "output_type": "execute_result"
    }
   ],
   "source": [
    "s[:90:-1]"
   ]
  },
  {
   "cell_type": "code",
   "execution_count": 90,
   "id": "ea0fbbdf-6dc9-484a-b106-922fa776a4d5",
   "metadata": {},
   "outputs": [
    {
     "ename": "SyntaxError",
     "evalue": "invalid syntax (2895990527.py, line 1)",
     "output_type": "error",
     "traceback": [
      "\u001b[0;36m  Cell \u001b[0;32mIn[90], line 1\u001b[0;36m\u001b[0m\n\u001b[0;31m    This is my first class for programming\u001b[0m\n\u001b[0m               ^\u001b[0m\n\u001b[0;31mSyntaxError\u001b[0m\u001b[0;31m:\u001b[0m invalid syntax\n"
     ]
    }
   ],
   "source": [
    "This is my first class for programming\n",
    "i have leant variable declaration , datatype ,string , int , boolean , complax number\n",
    "i have seen some eample of string slicing and indexing\n",
    "ihave gone through some of the string inbuilt function"
   ]
  },
  {
   "cell_type": "code",
   "execution_count": 91,
   "id": "c2146a9d-29f5-4885-b3dd-61c5dd88ffb5",
   "metadata": {},
   "outputs": [
    {
     "data": {
      "text/plain": [
       "'This is my first class for programming\\ni have leant variable declaration , datatype ,string , int , boolean , complax number\\ni have seen some eample of string slicing and indexing\\nihave gone through some of the string inbuilt function'"
      ]
     },
     "execution_count": 91,
     "metadata": {},
     "output_type": "execute_result"
    }
   ],
   "source": [
    "\"\"\"This is my first class for programming\n",
    "i have leant variable declaration , datatype ,string , int , boolean , complax number\n",
    "i have seen some eample of string slicing and indexing\n",
    "ihave gone through some of the string inbuilt function\"\"\""
   ]
  },
  {
   "cell_type": "code",
   "execution_count": null,
   "id": "43f0d396-8f82-4550-b7bb-619dea80d497",
   "metadata": {},
   "outputs": [],
   "source": [
    "#This is my first class for programming\n",
    "#i have leant variable declaration , datatype ,string , int , boolean , complax number\n",
    "#i have seen some eample of string slicing and indexing\n",
    "#ihave gone through some of the string inbuilt function"
   ]
  },
  {
   "cell_type": "code",
   "execution_count": null,
   "id": "53de00aa-bc53-4f9f-b4be-6a356bf51d5d",
   "metadata": {},
   "outputs": [],
   "source": [
    "# This is my first class for programming\n",
    "# i have leant variable declaration , datatype ,string , int , boolean , complax number\n",
    "# i have seen some eample of string slicing and indexing\n",
    "# ihave gone through some of the string inbuilt function"
   ]
  },
  {
   "cell_type": "code",
   "execution_count": null,
   "id": "bf539593-6192-459e-83c7-dc6f404d5e51",
   "metadata": {},
   "outputs": [],
   "source": []
  }
 ],
 "metadata": {
  "kernelspec": {
   "display_name": "Python 3 (ipykernel)",
   "language": "python",
   "name": "python3"
  },
  "language_info": {
   "codemirror_mode": {
    "name": "ipython",
    "version": 3
   },
   "file_extension": ".py",
   "mimetype": "text/x-python",
   "name": "python",
   "nbconvert_exporter": "python",
   "pygments_lexer": "ipython3",
   "version": "3.10.8"
  }
 },
 "nbformat": 4,
 "nbformat_minor": 5
}
